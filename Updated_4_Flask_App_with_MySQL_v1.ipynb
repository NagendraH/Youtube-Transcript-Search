{
  "nbformat": 4,
  "nbformat_minor": 0,
  "metadata": {
    "kernelspec": {
      "language": "python",
      "display_name": "Python 3",
      "name": "python3"
    },
    "language_info": {
      "pygments_lexer": "ipython3",
      "nbconvert_exporter": "python",
      "version": "3.6.4",
      "file_extension": ".py",
      "codemirror_mode": {
        "name": "ipython",
        "version": 3
      },
      "name": "python",
      "mimetype": "text/x-python"
    },
    "colab": {
      "name": "Updated 4 Flask_App_with_MySQL v1.ipynb",
      "provenance": [],
      "collapsed_sections": []
    },
    "accelerator": "GPU"
  },
  "cells": [
    {
      "cell_type": "markdown",
      "metadata": {
        "id": "q1TIbKFcMaxl"
      },
      "source": [
        "# **Semantic Textual Similarity Model**"
      ]
    },
    {
      "cell_type": "code",
      "metadata": {
        "colab": {
          "base_uri": "https://localhost:8080/"
        },
        "id": "rDodAnHsAMti",
        "outputId": "9d6d2f28-7dff-4456-98b1-33c7dc276206"
      },
      "source": [
        "from google.colab import drive\r\n",
        "drive.mount('/content/drive')"
      ],
      "execution_count": 13,
      "outputs": [
        {
          "output_type": "stream",
          "text": [
            "Mounted at /content/drive\n"
          ],
          "name": "stdout"
        }
      ]
    },
    {
      "cell_type": "code",
      "metadata": {
        "id": "ahRrappR_xOK"
      },
      "source": [
        "import numpy as np # linear algebra\r\n",
        "import pandas as pd # data processing, CSV file I/O (e.g. pd.read_csv)\r\n",
        "from keras.preprocessing.text import Tokenizer\r\n",
        "from keras.preprocessing.sequence import pad_sequences\r\n",
        "from nltk.tokenize import word_tokenize\r\n",
        "import re\r\n",
        "from nltk.stem import WordNetLemmatizer\r\n",
        "from nltk.corpus import stopwords\r\n",
        "import tensorflow as tf\r\n",
        "from tensorflow.keras.layers import *\r\n",
        "from tensorflow.keras.models import Model"
      ],
      "execution_count": 12,
      "outputs": []
    },
    {
      "cell_type": "code",
      "metadata": {
        "id": "otFhxZPQ57iI"
      },
      "source": [
        "import pickle\r\n",
        "\r\n",
        "# saving\r\n",
        "#with open('tokenizer.pickle', 'wb') as handle:\r\n",
        "    #pickle.dump(tokenizer, handle, protocol=pickle.HIGHEST_PROTOCOL)\r\n",
        "\r\n",
        "# loading\r\n",
        "with open('/content/drive/MyDrive/Youtube-semantice-search/tokenizer.pickle', 'rb') as handle:\r\n",
        "    tokenizer = pickle.load(handle)"
      ],
      "execution_count": 13,
      "outputs": []
    },
    {
      "cell_type": "code",
      "metadata": {
        "id": "h4upBNxvBe68"
      },
      "source": [
        "from keras import backend as K"
      ],
      "execution_count": 14,
      "outputs": []
    },
    {
      "cell_type": "code",
      "metadata": {
        "trusted": true,
        "id": "HuscPGUeIFmK"
      },
      "source": [
        "\n",
        "def exponent_neg_manhattan_distance(left, right):\n",
        "    ''' Helper function for the similarity estimate of the LSTMs outputs'''\n",
        "    return K.exp(-K.sum(K.abs(left-right), axis=1, keepdims=True))\n"
      ],
      "execution_count": 15,
      "outputs": []
    },
    {
      "cell_type": "code",
      "metadata": {
        "trusted": true,
        "id": "7ZUt0wj9IFmP"
      },
      "source": [
        "max_seq_length=30"
      ],
      "execution_count": 16,
      "outputs": []
    },
    {
      "cell_type": "code",
      "metadata": {
        "trusted": true,
        "id": "1j3Zyo_JIFmT"
      },
      "source": [
        "from keras.models import Model\n",
        "from keras.optimizers import Adadelta"
      ],
      "execution_count": 17,
      "outputs": []
    },
    {
      "cell_type": "code",
      "metadata": {
        "trusted": true,
        "id": "VgzpqA91IFnB"
      },
      "source": [
        "from keras.models import load_model\n",
        "malstm=load_model('/content/drive/MyDrive/Youtube-semantice-search/quora.h5')"
      ],
      "execution_count": 18,
      "outputs": []
    },
    {
      "cell_type": "code",
      "metadata": {
        "trusted": true,
        "id": "1SATR3BQIFnE",
        "colab": {
          "base_uri": "https://localhost:8080/"
        },
        "outputId": "8fd5fd89-1e32-4c1d-d1ed-5bb8a16330ce"
      },
      "source": [
        "malstm.summary()"
      ],
      "execution_count": 8,
      "outputs": [
        {
          "output_type": "stream",
          "text": [
            "Model: \"model\"\n",
            "__________________________________________________________________________________________________\n",
            "Layer (type)                    Output Shape         Param #     Connected to                     \n",
            "==================================================================================================\n",
            "input_1 (InputLayer)            [(None, 30)]         0                                            \n",
            "__________________________________________________________________________________________________\n",
            "input_2 (InputLayer)            [(None, 30)]         0                                            \n",
            "__________________________________________________________________________________________________\n",
            "embedding (Embedding)           (None, 30, 200)      17223800    input_1[0][0]                    \n",
            "                                                                 input_2[0][0]                    \n",
            "__________________________________________________________________________________________________\n",
            "lstm (LSTM)                     (None, 50)           50200       embedding[0][0]                  \n",
            "                                                                 embedding[1][0]                  \n",
            "__________________________________________________________________________________________________\n",
            "lambda (Lambda)                 (None, 1)            0           lstm[0][0]                       \n",
            "                                                                 lstm[1][0]                       \n",
            "==================================================================================================\n",
            "Total params: 17,274,000\n",
            "Trainable params: 50,200\n",
            "Non-trainable params: 17,223,800\n",
            "__________________________________________________________________________________________________\n"
          ],
          "name": "stdout"
        }
      ]
    },
    {
      "cell_type": "markdown",
      "metadata": {
        "id": "cM3UhfgdMUEG"
      },
      "source": [
        "# **Collecting Timestamps**"
      ]
    },
    {
      "cell_type": "code",
      "metadata": {
        "trusted": true,
        "id": "mipZKyYYIFnj",
        "colab": {
          "base_uri": "https://localhost:8080/"
        },
        "outputId": "b93cc833-6eca-41a3-f3b6-5c5b8722820e"
      },
      "source": [
        "!pip install youtube-transcript-api"
      ],
      "execution_count": 9,
      "outputs": [
        {
          "output_type": "stream",
          "text": [
            "Collecting youtube-transcript-api\n",
            "  Downloading https://files.pythonhosted.org/packages/21/81/c4ae5534b113f4938b482f360babbbe6fda550441a4af8e1007dba518586/youtube_transcript_api-0.3.1-py3-none-any.whl\n",
            "Requirement already satisfied: requests in /usr/local/lib/python3.6/dist-packages (from youtube-transcript-api) (2.23.0)\n",
            "Requirement already satisfied: chardet<4,>=3.0.2 in /usr/local/lib/python3.6/dist-packages (from requests->youtube-transcript-api) (3.0.4)\n",
            "Requirement already satisfied: certifi>=2017.4.17 in /usr/local/lib/python3.6/dist-packages (from requests->youtube-transcript-api) (2020.12.5)\n",
            "Requirement already satisfied: idna<3,>=2.5 in /usr/local/lib/python3.6/dist-packages (from requests->youtube-transcript-api) (2.10)\n",
            "Requirement already satisfied: urllib3!=1.25.0,!=1.25.1,<1.26,>=1.21.1 in /usr/local/lib/python3.6/dist-packages (from requests->youtube-transcript-api) (1.24.3)\n",
            "Installing collected packages: youtube-transcript-api\n",
            "Successfully installed youtube-transcript-api-0.3.1\n"
          ],
          "name": "stdout"
        }
      ]
    },
    {
      "cell_type": "code",
      "metadata": {
        "id": "r0pYdsF5Nq8N"
      },
      "source": [
        "#drive.mount(\"/content/drive\", force_remount=True)"
      ],
      "execution_count": 10,
      "outputs": []
    },
    {
      "cell_type": "code",
      "metadata": {
        "trusted": true,
        "id": "hehh6U4r9Tbh"
      },
      "source": [
        "#!pip install --upgrade pip"
      ],
      "execution_count": 11,
      "outputs": []
    },
    {
      "cell_type": "code",
      "metadata": {
        "trusted": true,
        "id": "-27bekx19Tbh"
      },
      "source": [
        "from youtube_transcript_api import YouTubeTranscriptApi\n",
        "\n",
        "#data=YouTubeTranscriptApi.get_transcript('pQJvyMIvW8s')"
      ],
      "execution_count": 12,
      "outputs": []
    },
    {
      "cell_type": "code",
      "metadata": {
        "trusted": true,
        "id": "N4-vLj5H9Tbh",
        "colab": {
          "base_uri": "https://localhost:8080/",
          "height": 68
        },
        "outputId": "a12987ac-9db3-4c41-e2a9-500925f30d05"
      },
      "source": [
        "'''time=[]\n",
        "transcripts=[]\n",
        "for values in data:\n",
        "    for key,value in values.items():\n",
        "        if(key==\"text\"):\n",
        "            transcripts.append(value)\n",
        "        if(key==\"start\"):\n",
        "            time.append(value)'''\n",
        "        "
      ],
      "execution_count": 13,
      "outputs": [
        {
          "output_type": "execute_result",
          "data": {
            "application/vnd.google.colaboratory.intrinsic+json": {
              "type": "string"
            },
            "text/plain": [
              "'time=[]\\ntranscripts=[]\\nfor values in data:\\n    for key,value in values.items():\\n        if(key==\"text\"):\\n            transcripts.append(value)\\n        if(key==\"start\"):\\n            time.append(value)'"
            ]
          },
          "metadata": {
            "tags": []
          },
          "execution_count": 13
        }
      ]
    },
    {
      "cell_type": "code",
      "metadata": {
        "trusted": true,
        "id": "H3drHWRo9Tbi"
      },
      "source": [
        "#transcripts"
      ],
      "execution_count": 14,
      "outputs": []
    },
    {
      "cell_type": "code",
      "metadata": {
        "trusted": true,
        "id": "jRdV-Blf9Tbi"
      },
      "source": [
        "#time"
      ],
      "execution_count": 15,
      "outputs": []
    },
    {
      "cell_type": "code",
      "metadata": {
        "trusted": true,
        "id": "3kZwJqI79Tbj"
      },
      "source": [
        "\n",
        "#q1 = tokenizer.texts_to_sequences(np.array(transcripts))\n",
        "#q1 = pad_sequences(q1, maxlen = 30, padding='post')"
      ],
      "execution_count": 16,
      "outputs": []
    },
    {
      "cell_type": "code",
      "metadata": {
        "trusted": true,
        "id": "6zEjGXWE9Tbj"
      },
      "source": [
        "#q3 = tokenizer.texts_to_sequences(np.array([\"Traffic\"]))\n",
        "#q3 = pad_sequences(q3, maxlen = 30, padding='post')"
      ],
      "execution_count": 17,
      "outputs": []
    },
    {
      "cell_type": "code",
      "metadata": {
        "trusted": true,
        "id": "xtiVRQG69Tbj"
      },
      "source": [
        "#p=[]"
      ],
      "execution_count": 18,
      "outputs": []
    },
    {
      "cell_type": "code",
      "metadata": {
        "trusted": true,
        "id": "oa93TN8-9Tbj",
        "colab": {
          "base_uri": "https://localhost:8080/",
          "height": 35
        },
        "outputId": "7cc542ff-26e0-4ebc-8b16-3655abbce0ae"
      },
      "source": [
        "'''for i in range(30):\n",
        "    p.append(malstm.predict([q3[0],q1[i]]))'''"
      ],
      "execution_count": 19,
      "outputs": [
        {
          "output_type": "execute_result",
          "data": {
            "application/vnd.google.colaboratory.intrinsic+json": {
              "type": "string"
            },
            "text/plain": [
              "'for i in range(30):\\n    p.append(malstm.predict([q3[0],q1[i]]))'"
            ]
          },
          "metadata": {
            "tags": []
          },
          "execution_count": 19
        }
      ]
    },
    {
      "cell_type": "code",
      "metadata": {
        "trusted": true,
        "id": "9wwz0OhZ9Tbk",
        "colab": {
          "base_uri": "https://localhost:8080/",
          "height": 51
        },
        "outputId": "38277087-5e61-49fc-b9c2-1876a060792f"
      },
      "source": [
        "'''s=[]\n",
        "print(q3[0])\n",
        "for i in range(len(p)):\n",
        "    if(np.mean(np.array(p[i]))>0.1):\n",
        "        print(transcripts[i],np.mean(np.array(p[i])))\n",
        "        s.append(np.mean(np.array(p[i])))'''"
      ],
      "execution_count": 20,
      "outputs": [
        {
          "output_type": "execute_result",
          "data": {
            "application/vnd.google.colaboratory.intrinsic+json": {
              "type": "string"
            },
            "text/plain": [
              "'s=[]\\nprint(q3[0])\\nfor i in range(len(p)):\\n    if(np.mean(np.array(p[i]))>0.1):\\n        print(transcripts[i],np.mean(np.array(p[i])))\\n        s.append(np.mean(np.array(p[i])))'"
            ]
          },
          "metadata": {
            "tags": []
          },
          "execution_count": 20
        }
      ]
    },
    {
      "cell_type": "code",
      "metadata": {
        "trusted": true,
        "id": "q0Hha1Bz9Tbk"
      },
      "source": [
        "#s"
      ],
      "execution_count": 21,
      "outputs": []
    },
    {
      "cell_type": "code",
      "metadata": {
        "trusted": true,
        "id": "nsvTVQq_9Tbl",
        "colab": {
          "base_uri": "https://localhost:8080/",
          "height": 35
        },
        "outputId": "9b7113a4-3731-4735-c013-6bb0bf9c1694"
      },
      "source": [
        "'''sort_index = np.argsort(s) \n",
        "\n",
        "\n",
        "sort_index=list(sort_index)\n",
        "sort_index.reverse()'''"
      ],
      "execution_count": 22,
      "outputs": [
        {
          "output_type": "execute_result",
          "data": {
            "application/vnd.google.colaboratory.intrinsic+json": {
              "type": "string"
            },
            "text/plain": [
              "'sort_index = np.argsort(s) \\n\\n\\nsort_index=list(sort_index)\\nsort_index.reverse()'"
            ]
          },
          "metadata": {
            "tags": []
          },
          "execution_count": 22
        }
      ]
    },
    {
      "cell_type": "code",
      "metadata": {
        "trusted": true,
        "id": "2sAd0VSA9Tbl"
      },
      "source": [
        "#sort_index"
      ],
      "execution_count": 23,
      "outputs": []
    },
    {
      "cell_type": "code",
      "metadata": {
        "trusted": true,
        "id": "tYUMFxG99Tbl"
      },
      "source": [
        "#for i in sort_index:\n",
        "#    print(transcripts[i],time[i])"
      ],
      "execution_count": 24,
      "outputs": []
    },
    {
      "cell_type": "code",
      "metadata": {
        "trusted": true,
        "id": "s4xapmh59Tbm"
      },
      "source": [
        "#youtubeid='pQJvyMIvW8s'"
      ],
      "execution_count": 25,
      "outputs": []
    },
    {
      "cell_type": "code",
      "metadata": {
        "trusted": true,
        "id": "tv7CuhPr9Tbm"
      },
      "source": [
        "\n",
        "#link='https://youtu.be/'+youtubeid+'?t='+str(round(time[3]))\n",
        "#print(link)"
      ],
      "execution_count": 26,
      "outputs": []
    },
    {
      "cell_type": "code",
      "metadata": {
        "trusted": true,
        "id": "X3j4OepT9Tbm"
      },
      "source": [
        "#!git clone https://github.com/NagendraH/SKINCANCER6.git"
      ],
      "execution_count": 27,
      "outputs": []
    },
    {
      "cell_type": "markdown",
      "metadata": {
        "id": "OfMAEBOBMGI7"
      },
      "source": [
        "# **Making flask App**"
      ]
    },
    {
      "cell_type": "code",
      "metadata": {
        "colab": {
          "base_uri": "https://localhost:8080/"
        },
        "id": "5zfeicJcKdOO",
        "outputId": "98c70737-9696-42d3-f2ae-57c11d52a348"
      },
      "source": [
        "!pip install flask-ngrok"
      ],
      "execution_count": 28,
      "outputs": [
        {
          "output_type": "stream",
          "text": [
            "Requirement already satisfied: flask-ngrok in /usr/local/lib/python3.6/dist-packages (0.0.25)\n",
            "Requirement already satisfied: requests in /usr/local/lib/python3.6/dist-packages (from flask-ngrok) (2.23.0)\n",
            "Requirement already satisfied: Flask>=0.8 in /usr/local/lib/python3.6/dist-packages (from flask-ngrok) (1.1.2)\n",
            "Requirement already satisfied: chardet<4,>=3.0.2 in /usr/local/lib/python3.6/dist-packages (from requests->flask-ngrok) (3.0.4)\n",
            "Requirement already satisfied: idna<3,>=2.5 in /usr/local/lib/python3.6/dist-packages (from requests->flask-ngrok) (2.10)\n",
            "Requirement already satisfied: certifi>=2017.4.17 in /usr/local/lib/python3.6/dist-packages (from requests->flask-ngrok) (2020.12.5)\n",
            "Requirement already satisfied: urllib3!=1.25.0,!=1.25.1,<1.26,>=1.21.1 in /usr/local/lib/python3.6/dist-packages (from requests->flask-ngrok) (1.24.3)\n",
            "Requirement already satisfied: Jinja2>=2.10.1 in /usr/local/lib/python3.6/dist-packages (from Flask>=0.8->flask-ngrok) (2.11.3)\n",
            "Requirement already satisfied: itsdangerous>=0.24 in /usr/local/lib/python3.6/dist-packages (from Flask>=0.8->flask-ngrok) (1.1.0)\n",
            "Requirement already satisfied: click>=5.1 in /usr/local/lib/python3.6/dist-packages (from Flask>=0.8->flask-ngrok) (7.1.2)\n",
            "Requirement already satisfied: Werkzeug>=0.15 in /usr/local/lib/python3.6/dist-packages (from Flask>=0.8->flask-ngrok) (1.0.1)\n",
            "Requirement already satisfied: MarkupSafe>=0.23 in /usr/local/lib/python3.6/dist-packages (from Jinja2>=2.10.1->Flask>=0.8->flask-ngrok) (1.1.1)\n"
          ],
          "name": "stdout"
        }
      ]
    },
    {
      "cell_type": "code",
      "metadata": {
        "id": "YywoD_ZfCaTD"
      },
      "source": [
        "youtubeid='pQJvyMIvW8s'"
      ],
      "execution_count": 29,
      "outputs": []
    },
    {
      "cell_type": "code",
      "metadata": {
        "colab": {
          "base_uri": "https://localhost:8080/"
        },
        "id": "qZit4u2EKMi7",
        "outputId": "94b1f7f3-2dca-4485-d61c-daed5de7d3fb"
      },
      "source": [
        "!pip install flask-mysql"
      ],
      "execution_count": 30,
      "outputs": [
        {
          "output_type": "stream",
          "text": [
            "Requirement already satisfied: flask-mysql in /usr/local/lib/python3.6/dist-packages (1.5.2)\n",
            "Requirement already satisfied: Flask in /usr/local/lib/python3.6/dist-packages (from flask-mysql) (1.1.2)\n",
            "Requirement already satisfied: PyMySQL in /usr/local/lib/python3.6/dist-packages (from flask-mysql) (1.0.2)\n",
            "Requirement already satisfied: itsdangerous>=0.24 in /usr/local/lib/python3.6/dist-packages (from Flask->flask-mysql) (1.1.0)\n",
            "Requirement already satisfied: Jinja2>=2.10.1 in /usr/local/lib/python3.6/dist-packages (from Flask->flask-mysql) (2.11.3)\n",
            "Requirement already satisfied: Werkzeug>=0.15 in /usr/local/lib/python3.6/dist-packages (from Flask->flask-mysql) (1.0.1)\n",
            "Requirement already satisfied: click>=5.1 in /usr/local/lib/python3.6/dist-packages (from Flask->flask-mysql) (7.1.2)\n",
            "Requirement already satisfied: MarkupSafe>=0.23 in /usr/local/lib/python3.6/dist-packages (from Jinja2>=2.10.1->Flask->flask-mysql) (1.1.1)\n"
          ],
          "name": "stdout"
        }
      ]
    },
    {
      "cell_type": "code",
      "metadata": {
        "colab": {
          "base_uri": "https://localhost:8080/"
        },
        "id": "ouoMxdyiAybS",
        "outputId": "12b65a26-39b1-433c-9878-65667af733fa"
      },
      "source": [
        "!pip install numpy nltk gensim textblob googletrans "
      ],
      "execution_count": 1,
      "outputs": [
        {
          "output_type": "stream",
          "text": [
            "Requirement already satisfied: numpy in /usr/local/lib/python3.6/dist-packages (1.19.5)\n",
            "Requirement already satisfied: nltk in /usr/local/lib/python3.6/dist-packages (3.2.5)\n",
            "Requirement already satisfied: gensim in /usr/local/lib/python3.6/dist-packages (3.6.0)\n",
            "Requirement already satisfied: textblob in /usr/local/lib/python3.6/dist-packages (0.15.3)\n",
            "Requirement already satisfied: googletrans in /usr/local/lib/python3.6/dist-packages (3.0.0)\n",
            "Requirement already satisfied: six in /usr/local/lib/python3.6/dist-packages (from nltk) (1.15.0)\n",
            "Requirement already satisfied: scipy>=0.18.1 in /usr/local/lib/python3.6/dist-packages (from gensim) (1.4.1)\n",
            "Requirement already satisfied: smart-open>=1.2.1 in /usr/local/lib/python3.6/dist-packages (from gensim) (4.1.2)\n",
            "Requirement already satisfied: httpx==0.13.3 in /usr/local/lib/python3.6/dist-packages (from googletrans) (0.13.3)\n",
            "Requirement already satisfied: rfc3986<2,>=1.3 in /usr/local/lib/python3.6/dist-packages (from httpx==0.13.3->googletrans) (1.4.0)\n",
            "Requirement already satisfied: httpcore==0.9.* in /usr/local/lib/python3.6/dist-packages (from httpx==0.13.3->googletrans) (0.9.1)\n",
            "Requirement already satisfied: certifi in /usr/local/lib/python3.6/dist-packages (from httpx==0.13.3->googletrans) (2020.12.5)\n",
            "Requirement already satisfied: idna==2.* in /usr/local/lib/python3.6/dist-packages (from httpx==0.13.3->googletrans) (2.10)\n",
            "Requirement already satisfied: hstspreload in /usr/local/lib/python3.6/dist-packages (from httpx==0.13.3->googletrans) (2020.12.22)\n",
            "Requirement already satisfied: chardet==3.* in /usr/local/lib/python3.6/dist-packages (from httpx==0.13.3->googletrans) (3.0.4)\n",
            "Requirement already satisfied: sniffio in /usr/local/lib/python3.6/dist-packages (from httpx==0.13.3->googletrans) (1.2.0)\n",
            "Requirement already satisfied: h2==3.* in /usr/local/lib/python3.6/dist-packages (from httpcore==0.9.*->httpx==0.13.3->googletrans) (3.2.0)\n",
            "Requirement already satisfied: h11<0.10,>=0.8 in /usr/local/lib/python3.6/dist-packages (from httpcore==0.9.*->httpx==0.13.3->googletrans) (0.9.0)\n",
            "Requirement already satisfied: contextvars>=2.1; python_version < \"3.7\" in /usr/local/lib/python3.6/dist-packages (from sniffio->httpx==0.13.3->googletrans) (2.4)\n",
            "Requirement already satisfied: hyperframe<6,>=5.2.0 in /usr/local/lib/python3.6/dist-packages (from h2==3.*->httpcore==0.9.*->httpx==0.13.3->googletrans) (5.2.0)\n",
            "Requirement already satisfied: hpack<4,>=3.0 in /usr/local/lib/python3.6/dist-packages (from h2==3.*->httpcore==0.9.*->httpx==0.13.3->googletrans) (3.0.0)\n",
            "Requirement already satisfied: immutables>=0.9 in /usr/local/lib/python3.6/dist-packages (from contextvars>=2.1; python_version < \"3.7\"->sniffio->httpx==0.13.3->googletrans) (0.14)\n"
          ],
          "name": "stdout"
        }
      ]
    },
    {
      "cell_type": "code",
      "metadata": {
        "colab": {
          "base_uri": "https://localhost:8080/"
        },
        "id": "NNRHY7CIBAl2",
        "outputId": "2e4f5d13-6688-4515-92ce-1801c160b966"
      },
      "source": [
        "!pip install nltk"
      ],
      "execution_count": 2,
      "outputs": [
        {
          "output_type": "stream",
          "text": [
            "Requirement already satisfied: nltk in /usr/local/lib/python3.6/dist-packages (3.2.5)\n",
            "Requirement already satisfied: six in /usr/local/lib/python3.6/dist-packages (from nltk) (1.15.0)\n"
          ],
          "name": "stdout"
        }
      ]
    },
    {
      "cell_type": "code",
      "metadata": {
        "id": "UMZRierKBC0d"
      },
      "source": [
        "\r\n",
        "import nltk"
      ],
      "execution_count": 3,
      "outputs": []
    },
    {
      "cell_type": "code",
      "metadata": {
        "colab": {
          "base_uri": "https://localhost:8080/"
        },
        "id": "fiFjfQi4A2YO",
        "outputId": "b3377ec8-2b36-4242-bb3a-fcc367e33917"
      },
      "source": [
        "nltk.download('wordnet')"
      ],
      "execution_count": 4,
      "outputs": [
        {
          "output_type": "stream",
          "text": [
            "[nltk_data] Downloading package wordnet to /root/nltk_data...\n",
            "[nltk_data]   Package wordnet is already up-to-date!\n"
          ],
          "name": "stdout"
        },
        {
          "output_type": "execute_result",
          "data": {
            "text/plain": [
              "True"
            ]
          },
          "metadata": {
            "tags": []
          },
          "execution_count": 4
        }
      ]
    },
    {
      "cell_type": "code",
      "metadata": {
        "colab": {
          "base_uri": "https://localhost:8080/"
        },
        "id": "_GMRZSdCBCPp",
        "outputId": "c3b50c5e-1d5f-416b-ff6d-a20a36fd37bc"
      },
      "source": [
        "nltk.download('punkt')\r\n",
        "nltk.download('averaged_perceptron_tagger')\r\n",
        "import gensim\r\n",
        "model = gensim.models.KeyedVectors.load_word2vec_format('/content/drive/MyDrive/Youtube-semantice-search/GoogleNews-vectors-negative300.bin.gz', binary=True)\r\n",
        "#model = gensim.models.fasttext.load_facebook_model('./cc.en.300.bin.gz')"
      ],
      "execution_count": 5,
      "outputs": [
        {
          "output_type": "stream",
          "text": [
            "[nltk_data] Downloading package punkt to /root/nltk_data...\n",
            "[nltk_data]   Package punkt is already up-to-date!\n",
            "[nltk_data] Downloading package averaged_perceptron_tagger to\n",
            "[nltk_data]     /root/nltk_data...\n",
            "[nltk_data]   Package averaged_perceptron_tagger is already up-to-\n",
            "[nltk_data]       date!\n"
          ],
          "name": "stdout"
        }
      ]
    },
    {
      "cell_type": "code",
      "metadata": {
        "colab": {
          "base_uri": "https://localhost:8080/"
        },
        "id": "iv_Hjbo6Bj1e",
        "outputId": "32e3c0f7-3175-4ab6-8c6c-aab51842adbb"
      },
      "source": [
        "!pip install textaugment"
      ],
      "execution_count": 6,
      "outputs": [
        {
          "output_type": "stream",
          "text": [
            "Requirement already satisfied: textaugment in /usr/local/lib/python3.6/dist-packages (1.3.4)\n",
            "Requirement already satisfied: textblob in /usr/local/lib/python3.6/dist-packages (from textaugment) (0.15.3)\n",
            "Requirement already satisfied: gensim in /usr/local/lib/python3.6/dist-packages (from textaugment) (3.6.0)\n",
            "Requirement already satisfied: nltk in /usr/local/lib/python3.6/dist-packages (from textaugment) (3.2.5)\n",
            "Requirement already satisfied: numpy in /usr/local/lib/python3.6/dist-packages (from textaugment) (1.19.5)\n",
            "Requirement already satisfied: googletrans in /usr/local/lib/python3.6/dist-packages (from textaugment) (3.0.0)\n",
            "Requirement already satisfied: scipy>=0.18.1 in /usr/local/lib/python3.6/dist-packages (from gensim->textaugment) (1.4.1)\n",
            "Requirement already satisfied: six>=1.5.0 in /usr/local/lib/python3.6/dist-packages (from gensim->textaugment) (1.15.0)\n",
            "Requirement already satisfied: smart-open>=1.2.1 in /usr/local/lib/python3.6/dist-packages (from gensim->textaugment) (4.1.2)\n",
            "Requirement already satisfied: httpx==0.13.3 in /usr/local/lib/python3.6/dist-packages (from googletrans->textaugment) (0.13.3)\n",
            "Requirement already satisfied: certifi in /usr/local/lib/python3.6/dist-packages (from httpx==0.13.3->googletrans->textaugment) (2020.12.5)\n",
            "Requirement already satisfied: chardet==3.* in /usr/local/lib/python3.6/dist-packages (from httpx==0.13.3->googletrans->textaugment) (3.0.4)\n",
            "Requirement already satisfied: hstspreload in /usr/local/lib/python3.6/dist-packages (from httpx==0.13.3->googletrans->textaugment) (2020.12.22)\n",
            "Requirement already satisfied: rfc3986<2,>=1.3 in /usr/local/lib/python3.6/dist-packages (from httpx==0.13.3->googletrans->textaugment) (1.4.0)\n",
            "Requirement already satisfied: httpcore==0.9.* in /usr/local/lib/python3.6/dist-packages (from httpx==0.13.3->googletrans->textaugment) (0.9.1)\n",
            "Requirement already satisfied: idna==2.* in /usr/local/lib/python3.6/dist-packages (from httpx==0.13.3->googletrans->textaugment) (2.10)\n",
            "Requirement already satisfied: sniffio in /usr/local/lib/python3.6/dist-packages (from httpx==0.13.3->googletrans->textaugment) (1.2.0)\n",
            "Requirement already satisfied: h2==3.* in /usr/local/lib/python3.6/dist-packages (from httpcore==0.9.*->httpx==0.13.3->googletrans->textaugment) (3.2.0)\n",
            "Requirement already satisfied: h11<0.10,>=0.8 in /usr/local/lib/python3.6/dist-packages (from httpcore==0.9.*->httpx==0.13.3->googletrans->textaugment) (0.9.0)\n",
            "Requirement already satisfied: contextvars>=2.1; python_version < \"3.7\" in /usr/local/lib/python3.6/dist-packages (from sniffio->httpx==0.13.3->googletrans->textaugment) (2.4)\n",
            "Requirement already satisfied: hpack<4,>=3.0 in /usr/local/lib/python3.6/dist-packages (from h2==3.*->httpcore==0.9.*->httpx==0.13.3->googletrans->textaugment) (3.0.0)\n",
            "Requirement already satisfied: hyperframe<6,>=5.2.0 in /usr/local/lib/python3.6/dist-packages (from h2==3.*->httpcore==0.9.*->httpx==0.13.3->googletrans->textaugment) (5.2.0)\n",
            "Requirement already satisfied: immutables>=0.9 in /usr/local/lib/python3.6/dist-packages (from contextvars>=2.1; python_version < \"3.7\"->sniffio->httpx==0.13.3->googletrans->textaugment) (0.14)\n"
          ],
          "name": "stdout"
        }
      ]
    },
    {
      "cell_type": "code",
      "metadata": {
        "colab": {
          "base_uri": "https://localhost:8080/",
          "height": 35
        },
        "id": "_6i9Gy6MCJXf",
        "outputId": "224f0e7f-522d-40d9-bf13-6561991b5f6f"
      },
      "source": [
        "from textaugment import Word2vec\r\n",
        "runs = 1 # By default.\r\n",
        "v = False # verbose mode to replace all the words. If enabled runs is not effective. Used in this paper (https://www.cs.cmu.edu/~diyiy/docs/emnlp_wang_2015.pdf)\r\n",
        "pow = 0.5 # The probability of success of an individual trial. (0.1<p<1.0), default is 0.5. Used by Geometric distribution to selects words from a sentence.\r\n",
        "\r\n",
        "t = Word2vec(model=model, runs=5, v=False, p=0.5)\r\n",
        "t.augment('The stories are good')\r\n"
      ],
      "execution_count": 10,
      "outputs": [
        {
          "output_type": "execute_result",
          "data": {
            "application/vnd.google.colaboratory.intrinsic+json": {
              "type": "string"
            },
            "text/plain": [
              "'whole stories varying good'"
            ]
          },
          "metadata": {
            "tags": []
          },
          "execution_count": 10
        }
      ]
    },
    {
      "cell_type": "code",
      "metadata": {
        "colab": {
          "base_uri": "https://localhost:8080/",
          "height": 35
        },
        "id": "5SsKFEAiE6G-",
        "outputId": "a92be057-3c03-4ea8-b090-1f4fc1745c81"
      },
      "source": [
        "t.augment('amazingly')"
      ],
      "execution_count": 8,
      "outputs": [
        {
          "output_type": "execute_result",
          "data": {
            "application/vnd.google.colaboratory.intrinsic+json": {
              "type": "string"
            },
            "text/plain": [
              "'unusally'"
            ]
          },
          "metadata": {
            "tags": []
          },
          "execution_count": 8
        }
      ]
    },
    {
      "cell_type": "code",
      "metadata": {
        "trusted": true,
        "colab": {
          "base_uri": "https://localhost:8080/"
        },
        "id": "-e_ZpjFl9Tbn",
        "outputId": "761dda52-06d8-46ad-85f5-a692df2b003d"
      },
      "source": [
        "from flask import Flask\r\n",
        "from flask import Flask, redirect, url_for\r\n",
        "from flask_ngrok import run_with_ngrok\r\n",
        "from flask import render_template\r\n",
        "from flask import request\r\n",
        "import h5py\r\n",
        "from flaskext.mysql import MySQL\r\n",
        "\r\n",
        "app = Flask(__name__)\r\n",
        "\r\n",
        "mysql = MySQL()\r\n",
        "app.config['MYSQL_DATABASE_USER'] = \"u9fwcv0v3gajj3ky\"\r\n",
        "app.config['MYSQL_DATABASE_PASSWORD'] = \"qzgorFn5oXvosBhJs7t9\"\r\n",
        "app.config['MYSQL_DATABASE_DB'] = \"bff29zhocbsecefuqe3p\"\r\n",
        "app.config['MYSQL_DATABASE_HOST'] = \"bff29zhocbsecefuqe3p-mysql.services.clever-cloud.com\"\r\n",
        "mysql.init_app(app)\r\n",
        "yid1=''\r\n",
        "yid=''\r\n",
        "temp1=''\r\n",
        "run_with_ngrok(app)\r\n",
        "gradient_clipping_norm = 1.25\r\n",
        "batch_size =1\r\n",
        "n_epoch = 25\r\n",
        "'''@app.route('/<string:insert>')\r\n",
        "def add(insert):\r\n",
        "    sql = \"select *from user;\"\r\n",
        "    conn = mysql.connect()\r\n",
        "    cursor =conn.cursor()\r\n",
        "    cursor.execute(sql)\r\n",
        "    data=cursor.fetchall()\r\n",
        "    print(data)\r\n",
        "    return render_template('display.html',data=data)'''\r\n",
        "    \r\n",
        "@app.route(\"/\",methods=['post', 'get'])\r\n",
        "def upload_predict():\r\n",
        "    l={}\r\n",
        "    global yid1\r\n",
        "    global yid\r\n",
        "    global temp1\r\n",
        "    transcripts1=[]\r\n",
        "    if request.method == 'POST':\r\n",
        "        if request.form.get(\"submit_b\"):\r\n",
        "            option = \" \".join(map(str,(request.form['options'])))\r\n",
        "            print(option)\r\n",
        "            print(yid)\r\n",
        "            sql = \"INSERT INTO user (question1, question2) VALUES (%s, %s);\"\r\n",
        "            val = (yid,option)\r\n",
        "            #print(s1[i])\r\n",
        "            conn = mysql.connect()\r\n",
        "            cursor =conn.cursor()\r\n",
        "            cursor.execute(sql, val)\r\n",
        "            conn.commit()\r\n",
        "            \r\n",
        "\r\n",
        "        if request.form.get(\"submit_a\"):\r\n",
        "            data=YouTubeTranscriptApi.get_transcript(str(yid1[24:]),languages=['en', 'en-IN'])\r\n",
        "            time1=[]\r\n",
        "            transcripts1=[]\r\n",
        "            for values in data:\r\n",
        "                for key,value in values.items():\r\n",
        "                    if(key==\"text\"):\r\n",
        "                        transcripts1.append(value)\r\n",
        "                    if(key==\"start\"):\r\n",
        "                        time1.append(value)\r\n",
        "        if(request.form.get('gsearch1')!=None):\r\n",
        "            #print(yid1)\r\n",
        "            yid1=str(request.form.get('gsearch1'))\r\n",
        "            temp1='https://www.youtube.com/embed/'+yid1[24:]\r\n",
        "        if(request.form.get('gsearch2')!=None):\r\n",
        "            yid = request.form.get('gsearch2')\r\n",
        "            #print(yid)\r\n",
        "            data=YouTubeTranscriptApi.get_transcript(str(yid1[24:]),languages=['en', 'en-IN'])\r\n",
        "            time=[]\r\n",
        "            transcripts=[]\r\n",
        "            for values in data:\r\n",
        "                for key,value in values.items():\r\n",
        "                    if(key==\"text\"):\r\n",
        "                        transcripts.append(value)\r\n",
        "                    if(key==\"start\"):\r\n",
        "                        time.append(value)\r\n",
        "            q1 = tokenizer.texts_to_sequences(np.array(transcripts))\r\n",
        "            q1 = pad_sequences(q1, maxlen = 30, padding='post')\r\n",
        "            q3 = tokenizer.texts_to_sequences(np.array([str(yid)]))\r\n",
        "            q3 = pad_sequences(q3, maxlen = 30, padding='post')\r\n",
        "            p=[]\r\n",
        "            for i in range(len(q1)):\r\n",
        "                p.append(malstm.predict([q3[0],q1[i]]))\r\n",
        "            s=[]\r\n",
        "            print(q3[0])\r\n",
        "            for i in range(len(p)):\r\n",
        "                if(np.mean(np.array(p[i]))>0.1):\r\n",
        "                    #print(transcripts[i],np.mean(np.array(p[i])))\r\n",
        "                    s.append(np.mean(np.array(p[i])))\r\n",
        "            sort_index = np.argsort(s) \r\n",
        "            sort_index=list(sort_index)\r\n",
        "            sort_index.reverse()\r\n",
        "            l={}\r\n",
        "            for i in sort_index[:4]:\r\n",
        "                l[transcripts[i]]=(temp1+'?autoplay=1&start='+str(round(time[i])))\r\n",
        "                \r\n",
        "    print(temp1)\r\n",
        "    return render_template('index.html', result = l,id=temp1,transcripts1=transcripts1)\r\n",
        "    \r\n",
        "\r\n",
        "if __name__==\"__main__\":\r\n",
        "  app.run()"
      ],
      "execution_count": 9,
      "outputs": [
        {
          "output_type": "stream",
          "text": [
            " * Serving Flask app \"__main__\" (lazy loading)\n",
            " * Environment: production\n",
            "\u001b[31m   WARNING: This is a development server. Do not use it in a production deployment.\u001b[0m\n",
            "\u001b[2m   Use a production WSGI server instead.\u001b[0m\n",
            " * Debug mode: off\n"
          ],
          "name": "stdout"
        },
        {
          "output_type": "stream",
          "text": [
            " * Running on http://127.0.0.1:5000/ (Press CTRL+C to quit)\n"
          ],
          "name": "stderr"
        },
        {
          "output_type": "stream",
          "text": [
            " * Running on http://abdf5e0e5096.ngrok.io\n",
            " * Traffic stats available on http://127.0.0.1:4040\n"
          ],
          "name": "stdout"
        }
      ]
    },
    {
      "cell_type": "code",
      "metadata": {
        "colab": {
          "base_uri": "https://localhost:8080/"
        },
        "id": "h_LuKn70cGc8",
        "outputId": "101371ad-f23e-4b44-9ec2-9af4833868f9"
      },
      "source": [
        "from flask import Flask\r\n",
        "from flask import Flask, redirect, url_for\r\n",
        "from flask_ngrok import run_with_ngrok\r\n",
        "from flask import render_template\r\n",
        "from flask import request\r\n",
        "import h5py\r\n",
        "from flaskext.mysql import MySQL\r\n",
        "\r\n",
        "app = Flask(__name__)\r\n",
        "\r\n",
        "mysql = MySQL()\r\n",
        "app.config['MYSQL_DATABASE_USER'] = \"u9fwcv0v3gajj3ky\"\r\n",
        "app.config['MYSQL_DATABASE_PASSWORD'] = \"qzgorFn5oXvosBhJs7t9\"\r\n",
        "app.config['MYSQL_DATABASE_DB'] = \"bff29zhocbsecefuqe3p\"\r\n",
        "app.config['MYSQL_DATABASE_HOST'] = \"bff29zhocbsecefuqe3p-mysql.services.clever-cloud.com\"\r\n",
        "mysql.init_app(app)\r\n",
        "yid1=''\r\n",
        "yid=''\r\n",
        "temp1=''\r\n",
        "run_with_ngrok(app)\r\n",
        "gradient_clipping_norm = 1.25\r\n",
        "batch_size =1\r\n",
        "n_epoch = 25\r\n",
        "'''@app.route('/<string:insert>')\r\n",
        "def add(insert):\r\n",
        "    sql = \"select *from user;\"\r\n",
        "    conn = mysql.connect()\r\n",
        "    cursor =conn.cursor()\r\n",
        "    cursor.execute(sql)\r\n",
        "    data=cursor.fetchall()\r\n",
        "    print(data)\r\n",
        "    return render_template('display.html',data=data)'''\r\n",
        "    \r\n",
        "@app.route(\"/\",methods=['post', 'get'])\r\n",
        "def upload_predict():\r\n",
        "    if request.method == 'POST':\r\n",
        "        if request.form.get(\"submit_b\"):\r\n",
        "            \r\n",
        "            #print(s1[i])\r\n",
        "            conn = mysql.connect()\r\n",
        "            cursor =conn.cursor()\r\n",
        "            sql = \"select *from user;\"\r\n",
        "            conn = mysql.connect()\r\n",
        "            cursor =conn.cursor()\r\n",
        "            cursor.execute(sql)\r\n",
        "            data=cursor.fetchall()\r\n",
        "            print(data)\r\n",
        "            new_s1=[]\r\n",
        "            new_s2=[]\r\n",
        "            for i in range(3):\r\n",
        "                new_s1.append(data[i][0])\r\n",
        "                new_s2.append(data[i][1])\r\n",
        "                new_s1.append(data[i][0])\r\n",
        "                new_s2.append(t.augment(data[i][1]))\r\n",
        "                print(t.augment(data[i][0]))\r\n",
        "                new_s1.append(t.augment(data[i][0]))\r\n",
        "                new_s2.append(data[i][1])\r\n",
        "            new_train_q1 = tokenizer.texts_to_sequences(np.array(new_s1).astype(str))\r\n",
        "            new_train_q1 = pad_sequences(new_train_q1, maxlen = 30, padding='post')\r\n",
        "\r\n",
        "            # X_train_q2 = tokenizer.texts_to_sequences(np.array(listq2))\r\n",
        "            new_train_q2 = tokenizer.texts_to_sequences(np.array(new_s2).astype(str))\r\n",
        "            new_train_q2 = pad_sequences(new_train_q2, maxlen = 30, padding='post')\r\n",
        "            malstm.compile(loss='mean_squared_error', optimizer=Adadelta(clipnorm=gradient_clipping_norm), metrics=['accuracy'])        \r\n",
        "            Y_train=np.array([1]*len(new_train_q2))\r\n",
        "            malstm_trained = malstm.fit([new_train_q1,new_train_q2],Y_train, batch_size=1, epochs=20)\r\n",
        "            p=[]\r\n",
        "            for i in range(len(new_train_q2)):\r\n",
        "                p.append(np.mean(malstm.predict([new_train_q1[i],new_train_q2[i]])))\r\n",
        "            print(p)\r\n",
        "    return render_template('index1.html')\r\n",
        "    \r\n",
        "\r\n",
        "if __name__==\"__main__\":\r\n",
        "  app.run()"
      ],
      "execution_count": 20,
      "outputs": [
        {
          "output_type": "stream",
          "text": [
            " * Serving Flask app \"__main__\" (lazy loading)\n",
            " * Environment: production\n",
            "\u001b[31m   WARNING: This is a development server. Do not use it in a production deployment.\u001b[0m\n",
            "\u001b[2m   Use a production WSGI server instead.\u001b[0m\n",
            " * Debug mode: off\n"
          ],
          "name": "stdout"
        },
        {
          "output_type": "stream",
          "text": [
            " * Running on http://127.0.0.1:5000/ (Press CTRL+C to quit)\n"
          ],
          "name": "stderr"
        },
        {
          "output_type": "stream",
          "text": [
            " * Running on http://72be20aaa434.ngrok.io\n",
            " * Traffic stats available on http://127.0.0.1:4040\n"
          ],
          "name": "stdout"
        },
        {
          "output_type": "stream",
          "text": [
            "127.0.0.1 - - [07/Feb/2021 17:28:02] \"\u001b[37mGET / HTTP/1.1\u001b[0m\" 200 -\n",
            "127.0.0.1 - - [07/Feb/2021 17:28:02] \"\u001b[33mGET /favicon.ico HTTP/1.1\u001b[0m\" 404 -\n"
          ],
          "name": "stderr"
        },
        {
          "output_type": "stream",
          "text": [
            "(('How do I structure a big PHP project?', 'What is the best way to structure a small PHP project and why?'), ('Is it safe to give a dog Benadryl to help it sleep?', 'Is Benadryl safe for consumption by dogs?'), ('Is it safe to give a dog Benadryl to help it sleep?', 'Is Benadryl safe for consumption by dogs?'), ('Organic Chemistry: How can I learn the order of the -I,+I, +m,-m effect easily?', 'I m poor in organic chemistry; how should I study chemistry?'), ('Why do we fix one gear in epicyclic gear train for power input?', 'Does Antarctica have any geopolitical importance?'), ('I have an IQ of 130. Will that increase as I get older?', 'What are the best aspects of living in Townsville, Queensland, Australia as a young adult?'), ('Work culture in sensen networks?', \"Rank actor's performances in Suicide Squad.\"), ('What is the scope of dgital marketing?', 'What is the scope of marketing?'), ('What are the general materials and the requirements for a black hole, is it caused by pressure?', 'How are black holes formed?'), ('How could I use both Ubuntu and Windows in my laptop?', 'How can I install ubuntu alongside my windows 10 laptop?'), ('If it shows up as pending on Snapchat did they still get the Snapchat?', 'Today “Mumbai” is Live on Snapchat. What should I do to get my “story” on Snapchat?'), ('Why do many women wear clothes that flash their bras?', 'Why do women wear bras?'), ('How much is a software engineer paid per month in India?', 'How much are software engineers paid for working in India?'), ('How do I improve leadreship skills?', 'How can we improve learning skills?'), ('What is your favorite poem that you have written?', \"What's the best poem you've written?\"), ('Why was the Indian Ocean named after India?', 'Is the Indian Ocean named after India?'), ('What are some tips for buying a Walmart refurbished TV?', 'Why is the US buying more tanks instead of fixing and refurbishing old ones?'), ('How many albums did the Beatles record?', 'What is the best song by a solo Beatle?'), ('When was the first video game created?', 'I complete by bachelor in mass communicatio degree.cani join UPSC exam.is my degree syllabus similar to UPSC optional subject?'), ('Why does Facebook give playstore update daily?', 'Is there any research in geometric analysis at Yale?'), ('How do I to become a sovereign citizen?', 'How do you become sovereign?'), ('What advice will you give for a person who is going to study medicine soon?', 'What is the advice you give for a student who is going to study medicine?'), ('I am 22, my weight is 33 kg and my height is 4.10 ft. and I am too skinny. what should I do to gain weight and height?', 'What do you believe is an accurate definition of vital energy?'), ('What are code share flights?', 'What does code sharing means?'), ('Why do people ask and answer their own questions?', 'Has anyone answered their own questions? If yes, why?'), ('Does terminal voltage effect direction of rotation of dc motor?', 'How do I reverse the direction of DC shunt motor?'), ('What law firm is representing Julian Assange from WikiLeaks?', 'Did Julian Assange give the recent release scoop to Fox News because they represent his new base?'), ('The integration of x^3 .e^(x^2) with respect x?', 'The integration of e^√x with respect x?'), ('Why MS Dhoni left captaincy though he was a successful captain?', 'Why has Dhoni left the captaincy from ODI and T20?'), ('What should I say when a girl says I\\'m \"hot\"?', \"I'm a guy. If I ask out a girl and she says no, how do I make things not awkward?\"), ('Is it safe to give a dog Benadryl to help it sleep?', 'Is Benadryl safe for consumption by dogs?'), ('traffic', 'tesla'), ('traffic', 'tesla'), ('traffic', 'tesla'), ('i am the worst guy in the planet earth', 'here'), ('', \"tesla's\"), ('traffic', 'fsd'), ('powerful', 'C o m e'), ('traffic', 'P o w e r f u l'), ('powerful', 'P o w e r f u l'), ('powerful', 'C o m e'), ('powerful', 'H i s t o r y'), ('powerful', 'H i s t o r y'), ('powerful', 'M a k e'), ('', 'P o w e r f u l'), ('powerful', 'H i s t o r y'), ('powerful', 'H i s t o r y'), ('powerful', 'H i s t o r y'), ('powerful', 'H i s t o r y'), ('powerful', 'H i s t o r y'))\n",
            "paths want i_luv original_score_alexandre_desplat a big malloc project?\n",
            "grows when safest to gives a dog dextromethorphan to ensures venus_williams_yeah sleep?\n",
            "seem reason uniqueness to deliver a sheltie lomotil to ensures wants sleep?\n",
            "Epoch 1/20\n",
            "9/9 [==============================] - 7s 6ms/step - loss: 0.4599 - accuracy: 0.1107\n",
            "Epoch 2/20\n",
            "9/9 [==============================] - 0s 6ms/step - loss: 0.4715 - accuracy: 0.0347\n",
            "Epoch 3/20\n",
            "9/9 [==============================] - 0s 6ms/step - loss: 0.4296 - accuracy: 0.0490\n",
            "Epoch 4/20\n",
            "9/9 [==============================] - 0s 6ms/step - loss: 0.4088 - accuracy: 0.3430\n",
            "Epoch 5/20\n",
            "9/9 [==============================] - 0s 6ms/step - loss: 0.3401 - accuracy: 0.4880\n",
            "Epoch 6/20\n",
            "9/9 [==============================] - 0s 6ms/step - loss: 0.3882 - accuracy: 0.2797\n",
            "Epoch 7/20\n",
            "9/9 [==============================] - 0s 6ms/step - loss: 0.4064 - accuracy: 0.2297\n",
            "Epoch 8/20\n",
            "9/9 [==============================] - 0s 6ms/step - loss: 0.5108 - accuracy: 0.0569\n",
            "Epoch 9/20\n",
            "9/9 [==============================] - 0s 6ms/step - loss: 0.4671 - accuracy: 0.1787\n",
            "Epoch 10/20\n",
            "9/9 [==============================] - 0s 6ms/step - loss: 0.4917 - accuracy: 0.1204\n",
            "Epoch 11/20\n",
            "9/9 [==============================] - 0s 6ms/step - loss: 0.4033 - accuracy: 0.1147\n",
            "Epoch 12/20\n",
            "9/9 [==============================] - 0s 6ms/step - loss: 0.4832 - accuracy: 0.2597\n",
            "Epoch 13/20\n",
            "9/9 [==============================] - 0s 6ms/step - loss: 0.4244 - accuracy: 0.3047\n",
            "Epoch 14/20\n",
            "9/9 [==============================] - 0s 6ms/step - loss: 0.4104 - accuracy: 0.1597\n",
            "Epoch 15/20\n",
            "9/9 [==============================] - 0s 6ms/step - loss: 0.3559 - accuracy: 0.1597\n",
            "Epoch 16/20\n",
            "9/9 [==============================] - 0s 6ms/step - loss: 0.3475 - accuracy: 0.2547\n",
            "Epoch 17/20\n",
            "9/9 [==============================] - 0s 6ms/step - loss: 0.3295 - accuracy: 0.4380\n",
            "Epoch 18/20\n",
            "9/9 [==============================] - 0s 6ms/step - loss: 0.3814 - accuracy: 0.2004\n",
            "Epoch 19/20\n",
            "9/9 [==============================] - 0s 5ms/step - loss: 0.3887 - accuracy: 0.3777\n",
            "Epoch 20/20\n",
            "9/9 [==============================] - 0s 6ms/step - loss: 0.3970 - accuracy: 0.2454\n",
            "WARNING:tensorflow:Model was constructed with shape (None, 30) for input KerasTensor(type_spec=TensorSpec(shape=(None, 30), dtype=tf.int32, name='input_1'), name='input_1', description=\"created by layer 'input_1'\"), but it was called on an input with incompatible shape (None, 1).\n",
            "WARNING:tensorflow:Model was constructed with shape (None, 30) for input KerasTensor(type_spec=TensorSpec(shape=(None, 30), dtype=tf.int32, name='input_2'), name='input_2', description=\"created by layer 'input_2'\"), but it was called on an input with incompatible shape (None, 1).\n"
          ],
          "name": "stdout"
        },
        {
          "output_type": "stream",
          "text": [
            "127.0.0.1 - - [07/Feb/2021 17:29:00] \"\u001b[37mPOST / HTTP/1.1\u001b[0m\" 200 -\n"
          ],
          "name": "stderr"
        },
        {
          "output_type": "stream",
          "text": [
            "[0.5827563, 0.5093492, 0.5809786, 0.6728798, 0.60432553, 0.5409936, 0.6728798, 0.636793, 0.7053316]\n"
          ],
          "name": "stdout"
        }
      ]
    },
    {
      "cell_type": "code",
      "metadata": {
        "id": "FqVxNKu5Mz4M"
      },
      "source": [
        "#drive.mount(\"/content/drive\", force_remount=True)\n"
      ],
      "execution_count": null,
      "outputs": []
    },
    {
      "cell_type": "code",
      "metadata": {
        "id": "pM_1q_7vDV-w"
      },
      "source": [
        "#from google.colab import drive\n",
        "#drive.mount('/content/drive')"
      ],
      "execution_count": null,
      "outputs": []
    },
    {
      "cell_type": "code",
      "metadata": {
        "id": "SHZN9tLODbeZ",
        "colab": {
          "base_uri": "https://localhost:8080/"
        },
        "outputId": "a3d734aa-51e2-499c-f452-02a6eb0c0bec"
      },
      "source": [
        "drive.mount(\"/content/drive\", force_remount=True)"
      ],
      "execution_count": null,
      "outputs": [
        {
          "output_type": "stream",
          "text": [
            "Mounted at /content/drive\n"
          ],
          "name": "stdout"
        }
      ]
    },
    {
      "cell_type": "markdown",
      "metadata": {
        "id": "jKRyXwa6LrUb"
      },
      "source": [
        "# **Connecting with the database and training data from database**\r\n"
      ]
    },
    {
      "cell_type": "code",
      "metadata": {
        "trusted": true,
        "id": "ojnQu61i9Tbn",
        "colab": {
          "base_uri": "https://localhost:8080/"
        },
        "outputId": "8fb72a1a-a08b-46fe-992d-0f7384d673a0"
      },
      "source": [
        "!pip install flask-mysql"
      ],
      "execution_count": 1,
      "outputs": [
        {
          "output_type": "stream",
          "text": [
            "Collecting flask-mysql\n",
            "  Downloading https://files.pythonhosted.org/packages/b6/18/3019b9a8d48fcee24e79a6c3de3f5d05e1b33dac8c49638a4cbcc7b4ddf9/Flask_MySQL-1.5.2-py2.py3-none-any.whl\n",
            "Requirement already satisfied: Flask in /usr/local/lib/python3.6/dist-packages (from flask-mysql) (1.1.2)\n",
            "Collecting PyMySQL\n",
            "\u001b[?25l  Downloading https://files.pythonhosted.org/packages/4f/52/a115fe175028b058df353c5a3d5290b71514a83f67078a6482cff24d6137/PyMySQL-1.0.2-py3-none-any.whl (43kB)\n",
            "\u001b[K     |████████████████████████████████| 51kB 7.9MB/s \n",
            "\u001b[?25hRequirement already satisfied: Werkzeug>=0.15 in /usr/local/lib/python3.6/dist-packages (from Flask->flask-mysql) (1.0.1)\n",
            "Requirement already satisfied: Jinja2>=2.10.1 in /usr/local/lib/python3.6/dist-packages (from Flask->flask-mysql) (2.11.3)\n",
            "Requirement already satisfied: click>=5.1 in /usr/local/lib/python3.6/dist-packages (from Flask->flask-mysql) (7.1.2)\n",
            "Requirement already satisfied: itsdangerous>=0.24 in /usr/local/lib/python3.6/dist-packages (from Flask->flask-mysql) (1.1.0)\n",
            "Requirement already satisfied: MarkupSafe>=0.23 in /usr/local/lib/python3.6/dist-packages (from Jinja2>=2.10.1->Flask->flask-mysql) (1.1.1)\n",
            "Installing collected packages: PyMySQL, flask-mysql\n",
            "Successfully installed PyMySQL-1.0.2 flask-mysql-1.5.2\n"
          ],
          "name": "stdout"
        }
      ]
    },
    {
      "cell_type": "code",
      "metadata": {
        "id": "Glp22lk4fEv9"
      },
      "source": [
        "from flaskext.mysql import MySQL\r\n",
        "from flask import Flask\r\n",
        "from flask import Flask, redirect, url_for\r\n",
        "from flask_ngrok import run_with_ngrok\r\n",
        "from flask import render_template\r\n",
        "from flask import request\r\n",
        "import h5py\r\n",
        "from flaskext.mysql import MySQL\r\n",
        "\r\n",
        "app = Flask(__name__)\r\n",
        "mysql = MySQL()\r\n",
        "app.config['MYSQL_DATABASE_USER'] = \"u9fwcv0v3gajj3ky\"\r\n",
        "app.config['MYSQL_DATABASE_PASSWORD'] = \"qzgorFn5oXvosBhJs7t9\"\r\n",
        "app.config['MYSQL_DATABASE_DB'] = \"bff29zhocbsecefuqe3p\"\r\n",
        "app.config['MYSQL_DATABASE_HOST'] = \"bff29zhocbsecefuqe3p-mysql.services.clever-cloud.com\"\r\n",
        "mysql.init_app(app)"
      ],
      "execution_count": 4,
      "outputs": []
    },
    {
      "cell_type": "code",
      "metadata": {
        "id": "nkGFZGm-rlIP"
      },
      "source": [
        "conn = mysql.connect()\r\n",
        "cursor =conn.cursor()"
      ],
      "execution_count": 5,
      "outputs": []
    },
    {
      "cell_type": "code",
      "metadata": {
        "id": "NobtMs6efW9T"
      },
      "source": [
        "\r\n",
        "\r\n",
        "\r\n",
        "query = \"Alter TABLE user modify question1  VARCHAR(2000),modify question2 VARCHAR(2000);\"\r\n",
        "cursor.execute(query)"
      ],
      "execution_count": null,
      "outputs": []
    },
    {
      "cell_type": "code",
      "metadata": {
        "colab": {
          "base_uri": "https://localhost:8080/"
        },
        "id": "GIjlXqXZZkry",
        "outputId": "b044c554-fa03-4d1d-9650-9af2c6b329b1"
      },
      "source": [
        "\r\n",
        "\r\n",
        "query = \"create table admin (question1 varchar(200),question2 varchar(200));\"\r\n",
        "cursor.execute(query)"
      ],
      "execution_count": 9,
      "outputs": [
        {
          "output_type": "execute_result",
          "data": {
            "text/plain": [
              "0"
            ]
          },
          "metadata": {
            "tags": []
          },
          "execution_count": 9
        }
      ]
    },
    {
      "cell_type": "code",
      "metadata": {
        "id": "OsLRUaZ6n0ur",
        "colab": {
          "base_uri": "https://localhost:8080/"
        },
        "outputId": "5dfc232a-b756-4f7b-eb11-51098c22e7f1"
      },
      "source": [
        "query = \"show tables;\"\r\n",
        "cursor.execute(query)"
      ],
      "execution_count": 10,
      "outputs": [
        {
          "output_type": "execute_result",
          "data": {
            "text/plain": [
              "2"
            ]
          },
          "metadata": {
            "tags": []
          },
          "execution_count": 10
        }
      ]
    },
    {
      "cell_type": "code",
      "metadata": {
        "id": "YQUq-LOkoSXh",
        "colab": {
          "base_uri": "https://localhost:8080/"
        },
        "outputId": "d1ee8b15-a02a-43e0-fc43-1c37bca1b98c"
      },
      "source": [
        "print(cursor)"
      ],
      "execution_count": 7,
      "outputs": [
        {
          "output_type": "stream",
          "text": [
            "<pymysql.cursors.Cursor object at 0x7f923e4d8320>\n"
          ],
          "name": "stdout"
        }
      ]
    },
    {
      "cell_type": "code",
      "metadata": {
        "id": "RAlmEIk6fbEI",
        "colab": {
          "base_uri": "https://localhost:8080/"
        },
        "outputId": "e6a7505f-d1ef-46c2-f461-415ecead1f93"
      },
      "source": [
        "for row in cursor:\r\n",
        "  print(row)"
      ],
      "execution_count": 11,
      "outputs": [
        {
          "output_type": "stream",
          "text": [
            "('admin',)\n",
            "('user',)\n"
          ],
          "name": "stdout"
        }
      ]
    },
    {
      "cell_type": "code",
      "metadata": {
        "id": "vwuDtgBUgQRE"
      },
      "source": [
        "s1[0]"
      ],
      "execution_count": null,
      "outputs": []
    },
    {
      "cell_type": "code",
      "metadata": {
        "id": "7gGTQMA_rq7w"
      },
      "source": [
        "s2[0]"
      ],
      "execution_count": null,
      "outputs": []
    },
    {
      "cell_type": "code",
      "metadata": {
        "colab": {
          "base_uri": "https://localhost:8080/"
        },
        "id": "FKTR3UZRq7al",
        "outputId": "1eca204e-c907-4915-d78b-6db8ceec31f8"
      },
      "source": [
        "for i in range(2,30):\r\n",
        "    sql = \"INSERT INTO user (question1, question2) VALUES (%s, %s);\"\r\n",
        "    val = (s1[i],s2[i])\r\n",
        "    print(s1[i])\r\n",
        "    conn = mysql.connect()\r\n",
        "    cursor =conn.cursor()\r\n",
        "    cursor.execute(sql, val)\r\n",
        "    conn.commit()"
      ],
      "execution_count": null,
      "outputs": [
        {
          "output_type": "stream",
          "text": [
            "What should I say when a girl says I'm \"hot\"?\n",
            "Is it safe to give a dog Benadryl to help it sleep?\n"
          ],
          "name": "stdout"
        }
      ]
    },
    {
      "cell_type": "code",
      "metadata": {
        "id": "jrgR4MJUAOHZ"
      },
      "source": [
        "conn.commit()"
      ],
      "execution_count": null,
      "outputs": []
    },
    {
      "cell_type": "code",
      "metadata": {
        "id": "Uvy3-Uf2ra9y"
      },
      "source": [
        "sql = \"select *from user;\"\r\n",
        "conn = mysql.connect()\r\n",
        "cursor =conn.cursor()\r\n",
        "cursor.execute(sql)\r\n",
        "data=cursor.fetchall()"
      ],
      "execution_count": null,
      "outputs": []
    },
    {
      "cell_type": "code",
      "metadata": {
        "colab": {
          "base_uri": "https://localhost:8080/"
        },
        "id": "_Q9ayAEJ9WmA",
        "outputId": "3a300297-cbef-46ce-872d-ba17e9c21e6f"
      },
      "source": [
        "print(data)"
      ],
      "execution_count": null,
      "outputs": [
        {
          "output_type": "stream",
          "text": [
            "(('How do I structure a big PHP project?', 'What is the best way to structure a small PHP project and why?'), ('Is it safe to give a dog Benadryl to help it sleep?', 'Is Benadryl safe for consumption by dogs?'), ('Is it safe to give a dog Benadryl to help it sleep?', 'Is Benadryl safe for consumption by dogs?'), ('Organic Chemistry: How can I learn the order of the -I,+I, +m,-m effect easily?', 'I m poor in organic chemistry; how should I study chemistry?'), ('Why do we fix one gear in epicyclic gear train for power input?', 'Does Antarctica have any geopolitical importance?'), ('I have an IQ of 130. Will that increase as I get older?', 'What are the best aspects of living in Townsville, Queensland, Australia as a young adult?'), ('Work culture in sensen networks?', \"Rank actor's performances in Suicide Squad.\"), ('What is the scope of dgital marketing?', 'What is the scope of marketing?'), ('What are the general materials and the requirements for a black hole, is it caused by pressure?', 'How are black holes formed?'), ('How could I use both Ubuntu and Windows in my laptop?', 'How can I install ubuntu alongside my windows 10 laptop?'), ('If it shows up as pending on Snapchat did they still get the Snapchat?', 'Today “Mumbai” is Live on Snapchat. What should I do to get my “story” on Snapchat?'), ('Why do many women wear clothes that flash their bras?', 'Why do women wear bras?'), ('How much is a software engineer paid per month in India?', 'How much are software engineers paid for working in India?'), ('How do I improve leadreship skills?', 'How can we improve learning skills?'), ('What is your favorite poem that you have written?', \"What's the best poem you've written?\"), ('Why was the Indian Ocean named after India?', 'Is the Indian Ocean named after India?'), ('What are some tips for buying a Walmart refurbished TV?', 'Why is the US buying more tanks instead of fixing and refurbishing old ones?'), ('How many albums did the Beatles record?', 'What is the best song by a solo Beatle?'), ('When was the first video game created?', 'I complete by bachelor in mass communicatio degree.cani join UPSC exam.is my degree syllabus similar to UPSC optional subject?'), ('Why does Facebook give playstore update daily?', 'Is there any research in geometric analysis at Yale?'), ('How do I to become a sovereign citizen?', 'How do you become sovereign?'), ('What advice will you give for a person who is going to study medicine soon?', 'What is the advice you give for a student who is going to study medicine?'), ('I am 22, my weight is 33 kg and my height is 4.10 ft. and I am too skinny. what should I do to gain weight and height?', 'What do you believe is an accurate definition of vital energy?'), ('What are code share flights?', 'What does code sharing means?'), ('Why do people ask and answer their own questions?', 'Has anyone answered their own questions? If yes, why?'), ('Does terminal voltage effect direction of rotation of dc motor?', 'How do I reverse the direction of DC shunt motor?'), ('What law firm is representing Julian Assange from WikiLeaks?', 'Did Julian Assange give the recent release scoop to Fox News because they represent his new base?'), ('The integration of x^3 .e^(x^2) with respect x?', 'The integration of e^√x with respect x?'), ('Why MS Dhoni left captaincy though he was a successful captain?', 'Why has Dhoni left the captaincy from ODI and T20?'), ('What should I say when a girl says I\\'m \"hot\"?', \"I'm a guy. If I ask out a girl and she says no, how do I make things not awkward?\"), ('Is it safe to give a dog Benadryl to help it sleep?', 'Is Benadryl safe for consumption by dogs?'), ('traffic', 'tesla'), ('traffic', 'tesla'), ('traffic', 'tesla'), ('i am the worst guy in the planet earth', 'here'), ('', \"tesla's\"), ('traffic', 'fsd'), ('powerful', 'C o m e'), ('traffic', 'P o w e r f u l'), ('powerful', 'P o w e r f u l'), ('powerful', 'C o m e'), ('powerful', 'H i s t o r y'), ('powerful', 'H i s t o r y'), ('powerful', 'M a k e'), ('', 'P o w e r f u l'))\n"
          ],
          "name": "stdout"
        }
      ]
    },
    {
      "cell_type": "code",
      "metadata": {
        "colab": {
          "base_uri": "https://localhost:8080/"
        },
        "id": "wTZt8XnACWMR",
        "outputId": "0f94f067-e901-4707-902f-db9c5ffb41c9"
      },
      "source": [
        "print(len(data))"
      ],
      "execution_count": null,
      "outputs": [
        {
          "output_type": "stream",
          "text": [
            "45\n"
          ],
          "name": "stdout"
        }
      ]
    },
    {
      "cell_type": "code",
      "metadata": {
        "id": "IQ1AJz1-EakK"
      },
      "source": [
        "new_s1=[]\r\n",
        "new_s2=[]\r\n",
        "for i in range(31):\r\n",
        "    new_s1.append(data[i][0])\r\n",
        "    new_s2.append(data[i][1])"
      ],
      "execution_count": null,
      "outputs": []
    },
    {
      "cell_type": "code",
      "metadata": {
        "id": "Jqv8np-59XyG"
      },
      "source": [
        "new_train_q1 = tokenizer.texts_to_sequences(np.array(new_s1).astype(str))\r\n",
        "new_train_q1 = pad_sequences(new_train_q1, maxlen = 30, padding='post')\r\n",
        "\r\n",
        "# X_train_q2 = tokenizer.texts_to_sequences(np.array(listq2))\r\n",
        "new_train_q2 = tokenizer.texts_to_sequences(np.array(new_s2).astype(str))\r\n",
        "new_train_q2 = pad_sequences(new_train_q2, maxlen = 30, padding='post')"
      ],
      "execution_count": null,
      "outputs": []
    },
    {
      "cell_type": "code",
      "metadata": {
        "id": "8yYKJk0qA92t"
      },
      "source": [
        "word_index = tokenizer.word_index"
      ],
      "execution_count": null,
      "outputs": []
    },
    {
      "cell_type": "code",
      "metadata": {
        "id": "shmNM9HxA1cO"
      },
      "source": [
        "embedding_index = {}\r\n",
        "with open('/content/drive/MyDrive/Youtube-semantice-search/glove.6B.200d.txt','r') as f:\r\n",
        "    for line in f:\r\n",
        "        values = line.split()\r\n",
        "        word = values[0]\r\n",
        "        vectors = np.asarray(values[1:], 'float32')\r\n",
        "        embedding_index[word] = vectors\r\n",
        "    f.close()"
      ],
      "execution_count": null,
      "outputs": []
    },
    {
      "cell_type": "code",
      "metadata": {
        "id": "u1WuHQsWBn6M"
      },
      "source": [
        "embedding_matrix = np.random.random((len(word_index)+1, 200))\r\n",
        "for word, i in word_index.items():\r\n",
        "    embedding_vector = embedding_index.get(word)\r\n",
        "    if embedding_vector is not None:\r\n",
        "        embedding_matrix[i] = embedding_vector"
      ],
      "execution_count": null,
      "outputs": []
    },
    {
      "cell_type": "code",
      "metadata": {
        "id": "nI9SpEW-KpNo"
      },
      "source": [
        "\r\n",
        "def exponent_neg_manhattan_distance(left, right):\r\n",
        "    ''' Helper function for the similarity estimate of the LSTMs outputs'''\r\n",
        "    return K.exp(-K.sum(K.abs(left-right), axis=1, keepdims=True))"
      ],
      "execution_count": null,
      "outputs": []
    },
    {
      "cell_type": "code",
      "metadata": {
        "id": "TvagPb50Kx4O"
      },
      "source": [
        "malstm.compile(loss='mean_squared_error', optimizer=Adadelta(clipnorm=gradient_clipping_norm), metrics=['accuracy'])"
      ],
      "execution_count": null,
      "outputs": []
    },
    {
      "cell_type": "code",
      "metadata": {
        "id": "O-ioeNPwK30c"
      },
      "source": [
        "Y_train=np.array([1]*31)"
      ],
      "execution_count": null,
      "outputs": []
    },
    {
      "cell_type": "code",
      "metadata": {
        "id": "MeegwsY6K4i7",
        "colab": {
          "base_uri": "https://localhost:8080/"
        },
        "outputId": "46069c53-e737-4c88-cdb1-9b8d0429e78d"
      },
      "source": [
        "malstm_trained = malstm.fit([new_train_q1,new_train_q2],Y_train, batch_size=1, epochs=20)\r\n"
      ],
      "execution_count": null,
      "outputs": [
        {
          "output_type": "stream",
          "text": [
            "Epoch 1/20\n",
            "31/31 [==============================] - 2s 6ms/step - loss: 0.1256 - accuracy: 0.8114\n",
            "Epoch 2/20\n",
            "31/31 [==============================] - 0s 6ms/step - loss: 0.0144 - accuracy: 0.9856\n",
            "Epoch 3/20\n",
            "31/31 [==============================] - 0s 5ms/step - loss: 0.0026 - accuracy: 0.9969\n",
            "Epoch 4/20\n",
            "31/31 [==============================] - 0s 5ms/step - loss: 0.0198 - accuracy: 0.9675\n",
            "Epoch 5/20\n",
            "31/31 [==============================] - 0s 6ms/step - loss: 0.0111 - accuracy: 1.0000\n",
            "Epoch 6/20\n",
            "31/31 [==============================] - 0s 6ms/step - loss: 0.0130 - accuracy: 0.9497\n",
            "Epoch 7/20\n",
            "31/31 [==============================] - 0s 6ms/step - loss: 4.5218e-04 - accuracy: 1.0000\n",
            "Epoch 8/20\n",
            "31/31 [==============================] - 0s 5ms/step - loss: 0.0023 - accuracy: 1.0000\n",
            "Epoch 9/20\n",
            "31/31 [==============================] - 0s 6ms/step - loss: 0.0036 - accuracy: 1.0000\n",
            "Epoch 10/20\n",
            "31/31 [==============================] - 0s 6ms/step - loss: 0.0012 - accuracy: 1.0000\n",
            "Epoch 11/20\n",
            "31/31 [==============================] - 0s 5ms/step - loss: 0.0057 - accuracy: 1.0000\n",
            "Epoch 12/20\n",
            "31/31 [==============================] - 0s 6ms/step - loss: 4.6537e-04 - accuracy: 1.0000\n",
            "Epoch 13/20\n",
            "31/31 [==============================] - 0s 5ms/step - loss: 2.8338e-04 - accuracy: 1.0000\n",
            "Epoch 14/20\n",
            "31/31 [==============================] - 0s 6ms/step - loss: 5.6183e-04 - accuracy: 1.0000\n",
            "Epoch 15/20\n",
            "31/31 [==============================] - 0s 5ms/step - loss: 9.5450e-05 - accuracy: 1.0000\n",
            "Epoch 16/20\n",
            "31/31 [==============================] - 0s 6ms/step - loss: 0.0019 - accuracy: 1.0000\n",
            "Epoch 17/20\n",
            "31/31 [==============================] - 0s 6ms/step - loss: 1.1537e-04 - accuracy: 1.0000\n",
            "Epoch 18/20\n",
            "31/31 [==============================] - 0s 6ms/step - loss: 5.7931e-04 - accuracy: 1.0000\n",
            "Epoch 19/20\n",
            "31/31 [==============================] - 0s 5ms/step - loss: 1.7832e-05 - accuracy: 1.0000\n",
            "Epoch 20/20\n",
            "31/31 [==============================] - 0s 6ms/step - loss: 2.9896e-04 - accuracy: 1.0000\n"
          ],
          "name": "stdout"
        }
      ]
    },
    {
      "cell_type": "code",
      "metadata": {
        "id": "abmg2h3hLJIe",
        "colab": {
          "base_uri": "https://localhost:8080/"
        },
        "outputId": "e1c84789-719c-4536-d6f6-a64bc31d6bdf"
      },
      "source": [
        "p=[]\r\n",
        "for i in range(31):\r\n",
        "    p.append(np.mean(malstm.predict([new_train_q1[i],new_train_q2[i]])))"
      ],
      "execution_count": null,
      "outputs": [
        {
          "output_type": "stream",
          "text": [
            "WARNING:tensorflow:Model was constructed with shape (None, 30) for input KerasTensor(type_spec=TensorSpec(shape=(None, 30), dtype=tf.int32, name='input_1'), name='input_1', description=\"created by layer 'input_1'\"), but it was called on an input with incompatible shape (None, 1).\n",
            "WARNING:tensorflow:Model was constructed with shape (None, 30) for input KerasTensor(type_spec=TensorSpec(shape=(None, 30), dtype=tf.int32, name='input_2'), name='input_2', description=\"created by layer 'input_2'\"), but it was called on an input with incompatible shape (None, 1).\n"
          ],
          "name": "stdout"
        }
      ]
    },
    {
      "cell_type": "code",
      "metadata": {
        "id": "BBH9SGFgLLKt",
        "colab": {
          "base_uri": "https://localhost:8080/"
        },
        "outputId": "7a8e120f-dfda-45db-8516-b9c89c2f096a"
      },
      "source": [
        "print(p)"
      ],
      "execution_count": null,
      "outputs": [
        {
          "output_type": "stream",
          "text": [
            "[0.5875005, 0.6754261, 0.6754261, 0.4781232, 0.5778033, 0.5497183, 0.80233127, 0.93366283, 0.4835746, 0.74541473, 0.5179398, 0.73669434, 0.7072231, 0.9091723, 0.7061956, 0.74005485, 0.56425893, 0.72499734, 0.30956638, 0.7085183, 0.81864816, 0.563796, 0.051743727, 0.90203196, 0.7162859, 0.7084793, 0.43929186, 0.7365424, 0.73806626, 0.34856784, 0.6754261]\n"
          ],
          "name": "stdout"
        }
      ]
    },
    {
      "cell_type": "markdown",
      "metadata": {
        "id": "X1OXS_j6aHNf"
      },
      "source": [
        "# Admin mysql flask"
      ]
    },
    {
      "cell_type": "code",
      "metadata": {
        "id": "V6Im73qd9OJx",
        "colab": {
          "base_uri": "https://localhost:8080/"
        },
        "outputId": "a02f5ee6-92cb-4749-f3ad-e6ce3744b3a2"
      },
      "source": [
        "from flask import Flask\r\n",
        "from flask import Flask, redirect, url_for\r\n",
        "from flask_ngrok import run_with_ngrok\r\n",
        "from flask import render_template\r\n",
        "from flask import request\r\n",
        "import h5py\r\n",
        "from flaskext.mysql import MySQL\r\n",
        "\r\n",
        "app = Flask(__name__)\r\n",
        "\r\n",
        "mysql = MySQL()\r\n",
        "app.config['MYSQL_DATABASE_USER'] = \"u9fwcv0v3gajj3ky\"\r\n",
        "app.config['MYSQL_DATABASE_PASSWORD'] = \"qzgorFn5oXvosBhJs7t9\"\r\n",
        "app.config['MYSQL_DATABASE_DB'] = \"bff29zhocbsecefuqe3p\"\r\n",
        "app.config['MYSQL_DATABASE_HOST'] = \"bff29zhocbsecefuqe3p-mysql.services.clever-cloud.com\"\r\n",
        "mysql.init_app(app)\r\n",
        "yid1=''\r\n",
        "yid=''\r\n",
        "temp1=''\r\n",
        "run_with_ngrok(app)\r\n",
        "gradient_clipping_norm = 1.25\r\n",
        "batch_size =1\r\n",
        "n_epoch = 25\r\n",
        "'''@app.route('/<string:insert>')\r\n",
        "def add(insert):\r\n",
        "    sql = \"select *from user;\"\r\n",
        "    conn = mysql.connect()\r\n",
        "    cursor =conn.cursor()\r\n",
        "    cursor.execute(sql)\r\n",
        "    data=cursor.fetchall()\r\n",
        "    print(data)\r\n",
        "    return render_template('display.html',data=data)'''\r\n",
        "    \r\n",
        "@app.route(\"/\",methods=['post', 'get'])\r\n",
        "def upload_predict():\r\n",
        "    if request.method == 'POST':\r\n",
        "        if request.form.get(\"submit_b\"):\r\n",
        "            \r\n",
        "            #print(s1[i])\r\n",
        "            conn = mysql.connect()\r\n",
        "            cursor =conn.cursor()\r\n",
        "            sql = \"select *from user;\"\r\n",
        "            conn = mysql.connect()\r\n",
        "            cursor =conn.cursor()\r\n",
        "            cursor.execute(sql)\r\n",
        "            data=cursor.fetchall()\r\n",
        "            print(data)\r\n",
        "            \r\n",
        "    return render_template('index1.html')\r\n",
        "    \r\n",
        "\r\n",
        "if __name__==\"__main__\":\r\n",
        "  app.run()"
      ],
      "execution_count": 19,
      "outputs": [
        {
          "output_type": "stream",
          "text": [
            " * Serving Flask app \"__main__\" (lazy loading)\n",
            " * Environment: production\n",
            "\u001b[31m   WARNING: This is a development server. Do not use it in a production deployment.\u001b[0m\n",
            "\u001b[2m   Use a production WSGI server instead.\u001b[0m\n",
            " * Debug mode: off\n"
          ],
          "name": "stdout"
        },
        {
          "output_type": "stream",
          "text": [
            " * Running on http://127.0.0.1:5000/ (Press CTRL+C to quit)\n"
          ],
          "name": "stderr"
        },
        {
          "output_type": "stream",
          "text": [
            " * Running on http://c0d90de73dc1.ngrok.io\n",
            " * Traffic stats available on http://127.0.0.1:4040\n"
          ],
          "name": "stdout"
        },
        {
          "output_type": "stream",
          "text": [
            "127.0.0.1 - - [07/Feb/2021 17:26:51] \"\u001b[37mGET / HTTP/1.1\u001b[0m\" 200 -\n",
            "127.0.0.1 - - [07/Feb/2021 17:26:51] \"\u001b[33mGET /favicon.ico HTTP/1.1\u001b[0m\" 404 -\n",
            "[2021-02-07 17:26:54,028] ERROR in app: Exception on / [POST]\n",
            "Traceback (most recent call last):\n",
            "  File \"/usr/local/lib/python3.6/dist-packages/flask/app.py\", line 2447, in wsgi_app\n",
            "    response = self.full_dispatch_request()\n",
            "  File \"/usr/local/lib/python3.6/dist-packages/flask/app.py\", line 1952, in full_dispatch_request\n",
            "    rv = self.handle_user_exception(e)\n",
            "  File \"/usr/local/lib/python3.6/dist-packages/flask/app.py\", line 1821, in handle_user_exception\n",
            "    reraise(exc_type, exc_value, tb)\n",
            "  File \"/usr/local/lib/python3.6/dist-packages/flask/_compat.py\", line 39, in reraise\n",
            "    raise value\n",
            "  File \"/usr/local/lib/python3.6/dist-packages/flask/app.py\", line 1950, in full_dispatch_request\n",
            "    rv = self.dispatch_request()\n",
            "  File \"/usr/local/lib/python3.6/dist-packages/flask/app.py\", line 1936, in dispatch_request\n",
            "    return self.view_functions[rule.endpoint](**req.view_args)\n",
            "  File \"<ipython-input-19-99cb0b76b2bb>\", line 42, in upload_predict\n",
            "    cursor.execute(sql, val)\n",
            "UnboundLocalError: local variable 'sql' referenced before assignment\n",
            "127.0.0.1 - - [07/Feb/2021 17:26:54] \"\u001b[35m\u001b[1mPOST / HTTP/1.1\u001b[0m\" 500 -\n"
          ],
          "name": "stderr"
        }
      ]
    },
    {
      "cell_type": "code",
      "metadata": {
        "id": "sQ6z8HRBagWM"
      },
      "source": [
        ""
      ],
      "execution_count": null,
      "outputs": []
    }
  ]
}